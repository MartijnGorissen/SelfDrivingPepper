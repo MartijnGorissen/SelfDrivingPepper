{
 "cells": [
  {
   "cell_type": "code",
   "execution_count": 99,
   "metadata": {},
   "outputs": [
    {
     "name": "stderr",
     "output_type": "stream",
     "text": [
      "Neither CUDA nor MPS are available - defaulting to CPU. Note: This module is much faster with a GPU.\n"
     ]
    }
   ],
   "source": [
    "import easyocr\n",
    "from ultralytics import YOLO\n",
    "import numpy as np\n",
    "\n",
    "reader = easyocr.Reader(['en'])\n",
    "model = YOLO(\"best.pt\")\n",
    "class_name = \"snelheid\"\n",
    "MAX_SPEED = 120\n",
    "\n",
    "def get_bbox(results, class_name):\n",
    "    \"\"\"\n",
    "    Kijkt voor een gegeven class of er bounding\n",
    "    boxes zijn gevonden.\n",
    "    \"\"\"\n",
    "    # Kijken of alle items correct zijn\n",
    "    for result in results:\n",
    "        if hasattr(result, 'names') and hasattr(result, 'boxes'):\n",
    "            # Zoeken van de class index\n",
    "            class_index = None\n",
    "            for index, name in result.names.items():\n",
    "                if name == class_name:\n",
    "                    class_index = index\n",
    "                    break\n",
    "            \n",
    "            # Ga door als de class_index niet is gevonden\n",
    "            if class_index is None:\n",
    "                continue\n",
    "            \n",
    "            # Ophalven van de box voor de class\n",
    "            for box in result.boxes:\n",
    "                if box.cls == class_index:\n",
    "                    # Ophalen van de box coordinaten\n",
    "                    x1, y1, x2, y2 = box.xyxy[0]\n",
    "                    width = x2 - x1\n",
    "                    height = y2 - y1\n",
    "                    return [x1, y1, width, height]\n",
    "    \n",
    "    # Return None als er geen box van die class is gevonden\n",
    "    return None\n",
    "\n",
    "\n",
    "def crop_bbox(image, bbox):\n",
    "    \"\"\"\n",
    "    Snijd de bounding box uit de afbeelding en returnd\n",
    "    de gesneden afbeelding.\n",
    "\n",
    "    Parameters:\n",
    "    - image: De originele afbeelding\n",
    "    - bbox: De bounding box in de volgende vorm: [x, y, width, height].\n",
    "\n",
    "    Returns:\n",
    "    - bbox_img: De gesneden afbeelding\n",
    "    \"\"\"\n",
    "    # Uitpakken bbox\n",
    "    x, y, width, height = bbox\n",
    "\n",
    "    # Omzetten van tensors naar int\n",
    "    x = int(x)\n",
    "    y = int(y)\n",
    "    width = int(width)\n",
    "    height = int(height)\n",
    "\n",
    "    # Berekenen van de juiste coordinaten\n",
    "    right = x + width\n",
    "    bottom = y + height\n",
    "\n",
    "    # Snijden van afbeelding\n",
    "    bbox_img = image.crop((x, y, right, bottom))\n",
    "\n",
    "    return bbox_img\n",
    "\n",
    "\n",
    "def read_speedsign(sign):\n",
    "    \"\"\"\n",
    "    Leest een speedsign af\n",
    "    \"\"\"\n",
    "    # Omzetten van afbeelding naar np.array\n",
    "    sign_array = np.array(sign)\n",
    "\n",
    "    # Lezen van de np.array met EasyOCR\n",
    "    speed_limit = reader.readtext(sign_array)\n",
    "\n",
    "    # Ophalen van de snelheid en omzetten naar hm/u\n",
    "    speed_hmu = speed_limit[0][1] * 10\n",
    "    return speed_hmu\n",
    "\n",
    "\n",
    "def handle_speedsign(image):\n",
    "    \"\"\"\n",
    "    Behandeld het aflezen van speedsigns door\n",
    "    middel van EasyOCR en Yolo\n",
    "    \"\"\"\n",
    "    # Ophalen van de voorspelling\n",
    "    results = model([image])\n",
    "\n",
    "    # Ophalen van de Bounding Box\n",
    "    bbox = get_bbox(results, class_name)\n",
    "\n",
    "    # Snijden van de box naar afbeelding\n",
    "    sign = crop_bbox(image, bbox)\n",
    "\n",
    "    # Aflezen van de afbeelding\n",
    "    speed = read_speedsign(sign)\n",
    "\n",
    "    # Omzetten van snelheidslimiet naar throttle\n",
    "    # dmv maximum snelheid / snelheid voor % throttle\n",
    "    throttle = MAX_SPEED / speed\n",
    "    return throttle\n",
    "\n",
    "def speed_to_throttle(speed):\n",
    "    \"\"\"\n",
    "    Veranderd de afgelezen snelheid naar throttle\n",
    "    op basis van percentages\n",
    "    \"\"\"\n",
    "    # Percentage van throttle berekenen\n",
    "    throttle = round((speed / MAX_SPEED), 2)\n",
    "\n",
    "    # Throttle tussen max en min zetten\n",
    "    # Indien de throttle te hoog zou zijn\n",
    "    if throttle > 1.0:\n",
    "        throttle = 1.0\n",
    "    elif throttle < 0.0:\n",
    "        throttle = 0.0\n",
    "    else:\n",
    "        throttle = throttle\n",
    "\n",
    "    return throttle"
   ]
  },
  {
   "cell_type": "code",
   "execution_count": 103,
   "metadata": {},
   "outputs": [
    {
     "name": "stdout",
     "output_type": "stream",
     "text": [
      "\n",
      "0: 384x640 2 roods, 1 snelheid, 1 zebrapad, 102.0ms\n",
      "Speed: 3.9ms preprocess, 102.0ms inference, 1.0ms postprocess per image at shape (1, 3, 384, 640)\n"
     ]
    },
    {
     "ename": "TypeError",
     "evalue": "unsupported operand type(s) for /: 'int' and 'list'",
     "output_type": "error",
     "traceback": [
      "\u001b[1;31m---------------------------------------------------------------------------\u001b[0m",
      "\u001b[1;31mTypeError\u001b[0m                                 Traceback (most recent call last)",
      "Cell \u001b[1;32mIn[103], line 3\u001b[0m\n\u001b[0;32m      1\u001b[0m image \u001b[38;5;241m=\u001b[39m \u001b[38;5;124m'\u001b[39m\u001b[38;5;124myeg.png\u001b[39m\u001b[38;5;124m'\u001b[39m\n\u001b[0;32m      2\u001b[0m image \u001b[38;5;241m=\u001b[39m Image\u001b[38;5;241m.\u001b[39mopen(image)\n\u001b[1;32m----> 3\u001b[0m \u001b[43mhandle_speedsign\u001b[49m\u001b[43m(\u001b[49m\u001b[43mimage\u001b[49m\u001b[43m)\u001b[49m\n",
      "Cell \u001b[1;32mIn[99], line 107\u001b[0m, in \u001b[0;36mhandle_speedsign\u001b[1;34m(image)\u001b[0m\n\u001b[0;32m    103\u001b[0m speed \u001b[38;5;241m=\u001b[39m read_speedsign(sign)\n\u001b[0;32m    105\u001b[0m \u001b[38;5;66;03m# Omzetten van snelheidslimiet naar throttle\u001b[39;00m\n\u001b[0;32m    106\u001b[0m \u001b[38;5;66;03m# dmv maximum snelheid / snelheid voor % throttle\u001b[39;00m\n\u001b[1;32m--> 107\u001b[0m throttle \u001b[38;5;241m=\u001b[39m \u001b[43mMAX_SPEED\u001b[49m\u001b[43m \u001b[49m\u001b[38;5;241;43m/\u001b[39;49m\u001b[43m \u001b[49m\u001b[43mspeed\u001b[49m\n\u001b[0;32m    108\u001b[0m \u001b[38;5;28;01mreturn\u001b[39;00m throttle\n",
      "\u001b[1;31mTypeError\u001b[0m: unsupported operand type(s) for /: 'int' and 'list'"
     ]
    }
   ],
   "source": [
    "image = 'yeg.png'\n",
    "image = Image.open(image)\n",
    "handle_speedsign(image)"
   ]
  },
  {
   "cell_type": "code",
   "execution_count": 104,
   "metadata": {},
   "outputs": [
    {
     "name": "stdout",
     "output_type": "stream",
     "text": [
      "\n",
      "image 1/1 c:\\Users\\crazy\\Downloads\\School ADS&AI\\Semester 4\\SelfDrivingPepper\\Snelheidsborden\\yeg.png: 384x640 2 roods, 1 snelheid, 1 zebrapad, 95.0ms\n",
      "Speed: 2.7ms preprocess, 95.0ms inference, 0.5ms postprocess per image at shape (1, 3, 384, 640)\n"
     ]
    },
    {
     "data": {
      "text/plain": [
       "[ultralytics.engine.results.Results object with attributes:\n",
       " \n",
       " boxes: ultralytics.engine.results.Boxes object\n",
       " keypoints: None\n",
       " masks: None\n",
       " names: {0: 'groen', 1: 'mensen', 2: 'rood', 3: 'snelheid', 4: 'zebrapad'}\n",
       " obb: None\n",
       " orig_img: array([[[232, 227, 218],\n",
       "         [232, 227, 218],\n",
       "         [231, 226, 217],\n",
       "         ...,\n",
       "         [246, 245, 241],\n",
       "         [247, 244, 240],\n",
       "         [246, 243, 239]],\n",
       " \n",
       "        [[233, 228, 219],\n",
       "         [233, 228, 219],\n",
       "         [233, 228, 219],\n",
       "         ...,\n",
       "         [248, 247, 243],\n",
       "         [250, 247, 243],\n",
       "         [249, 246, 242]],\n",
       " \n",
       "        [[234, 229, 220],\n",
       "         [235, 230, 221],\n",
       "         [235, 230, 221],\n",
       "         ...,\n",
       "         [252, 251, 247],\n",
       "         [253, 250, 246],\n",
       "         [253, 250, 246]],\n",
       " \n",
       "        ...,\n",
       " \n",
       "        [[ 81,  82,  96],\n",
       "         [128, 130, 141],\n",
       "         [119, 126, 135],\n",
       "         ...,\n",
       "         [ 60,  59,  63],\n",
       "         [ 47,  46,  50],\n",
       "         [ 71,  67,  73]],\n",
       " \n",
       "        [[ 94,  92, 111],\n",
       "         [106, 106, 124],\n",
       "         [111, 114, 128],\n",
       "         ...,\n",
       "         [ 85,  82,  84],\n",
       "         [ 83,  76,  81],\n",
       "         [ 60,  49,  57]],\n",
       " \n",
       "        [[ 63,  62,  71],\n",
       "         [ 61,  63,  71],\n",
       "         [ 45,  47,  57],\n",
       "         ...,\n",
       "         [ 92,  89,  91],\n",
       "         [101,  90,  98],\n",
       "         [ 91,  77,  88]]], dtype=uint8)\n",
       " orig_shape: (480, 848)\n",
       " path: 'c:\\\\Users\\\\crazy\\\\Downloads\\\\School ADS&AI\\\\Semester 4\\\\SelfDrivingPepper\\\\Snelheidsborden\\\\yeg.png'\n",
       " probs: None\n",
       " save_dir: 'runs\\\\detect\\\\predict'\n",
       " speed: {'preprocess': 2.6633739471435547, 'inference': 95.00551223754883, 'postprocess': 0.5083084106445312}]"
      ]
     },
     "execution_count": 104,
     "metadata": {},
     "output_type": "execute_result"
    }
   ],
   "source": [
    "image = 'yeg.png'\n",
    "results = model(image)\n",
    "results"
   ]
  },
  {
   "cell_type": "code",
   "execution_count": 105,
   "metadata": {},
   "outputs": [
    {
     "name": "stdout",
     "output_type": "stream",
     "text": [
      "Type of results: <class 'list'>\n",
      "Contents of results:\n",
      "ultralytics.engine.results.Results object with attributes:\n",
      "\n",
      "boxes: ultralytics.engine.results.Boxes object\n",
      "keypoints: None\n",
      "masks: None\n",
      "names: {0: 'groen', 1: 'mensen', 2: 'rood', 3: 'snelheid', 4: 'zebrapad'}\n",
      "obb: None\n",
      "orig_img: array([[[232, 227, 218],\n",
      "        [232, 227, 218],\n",
      "        [231, 226, 217],\n",
      "        ...,\n",
      "        [246, 245, 241],\n",
      "        [247, 244, 240],\n",
      "        [246, 243, 239]],\n",
      "\n",
      "       [[233, 228, 219],\n",
      "        [233, 228, 219],\n",
      "        [233, 228, 219],\n",
      "        ...,\n",
      "        [248, 247, 243],\n",
      "        [250, 247, 243],\n",
      "        [249, 246, 242]],\n",
      "\n",
      "       [[234, 229, 220],\n",
      "        [235, 230, 221],\n",
      "        [235, 230, 221],\n",
      "        ...,\n",
      "        [252, 251, 247],\n",
      "        [253, 250, 246],\n",
      "        [253, 250, 246]],\n",
      "\n",
      "       ...,\n",
      "\n",
      "       [[ 81,  82,  96],\n",
      "        [128, 130, 141],\n",
      "        [119, 126, 135],\n",
      "        ...,\n",
      "        [ 60,  59,  63],\n",
      "        [ 47,  46,  50],\n",
      "        [ 71,  67,  73]],\n",
      "\n",
      "       [[ 94,  92, 111],\n",
      "        [106, 106, 124],\n",
      "        [111, 114, 128],\n",
      "        ...,\n",
      "        [ 85,  82,  84],\n",
      "        [ 83,  76,  81],\n",
      "        [ 60,  49,  57]],\n",
      "\n",
      "       [[ 63,  62,  71],\n",
      "        [ 61,  63,  71],\n",
      "        [ 45,  47,  57],\n",
      "        ...,\n",
      "        [ 92,  89,  91],\n",
      "        [101,  90,  98],\n",
      "        [ 91,  77,  88]]], dtype=uint8)\n",
      "orig_shape: (480, 848)\n",
      "path: 'c:\\\\Users\\\\crazy\\\\Downloads\\\\School ADS&AI\\\\Semester 4\\\\SelfDrivingPepper\\\\Snelheidsborden\\\\yeg.png'\n",
      "probs: None\n",
      "save_dir: 'runs\\\\detect\\\\predict'\n",
      "speed: {'preprocess': 2.6633739471435547, 'inference': 95.00551223754883, 'postprocess': 0.5083084106445312}\n",
      "Bounding box of speedsign class: [tensor(525.6989), tensor(87.2755), tensor(16.3344), tensor(20.0553)]\n"
     ]
    }
   ],
   "source": [
    "# Print the type and contents of results to understand its structure\n",
    "print(f\"Type of results: {type(results)}\")\n",
    "print(\"Contents of results:\")\n",
    "for item in results:\n",
    "    print(item)\n",
    "\n",
    "# Depending on the output, adjust the code accordingly\n",
    "def get_bounding_box_of_class(results, class_name):\n",
    "    # Check each item in the list if results is a list\n",
    "    for result in results:\n",
    "        if hasattr(result, 'names') and hasattr(result, 'boxes'):\n",
    "            # Access the names dictionary to find the class index\n",
    "            class_index = None\n",
    "            for index, name in result.names.items():\n",
    "                if name == class_name:\n",
    "                    class_index = index\n",
    "                    break\n",
    "            \n",
    "            # If the class index is not found, continue to the next result\n",
    "            if class_index is None:\n",
    "                continue\n",
    "            \n",
    "            # Retrieve the bounding box of the specified class\n",
    "            for box in result.boxes:\n",
    "                if box.cls == class_index:\n",
    "                    # Extract the bounding box coordinates\n",
    "                    x1, y1, x2, y2 = box.xyxy[0]\n",
    "                    width = x2 - x1\n",
    "                    height = y2 - y1\n",
    "                    # Return the bounding box as a list [x, y, width, height]\n",
    "                    return [x1, y1, width, height]\n",
    "    \n",
    "    # If no matching class is found in any results, return None\n",
    "    return None\n",
    "\n",
    "# Retrieve the bounding box for the 'RedCircular' class\n",
    "speedsign = get_bounding_box_of_class(results, 'snelheid')\n",
    "\n",
    "if speedsign is not None:\n",
    "    print(f\"Bounding box of speedsign class: {speedsign}\")\n",
    "else:\n",
    "    print(\"RedCircular class not detected.\")"
   ]
  },
  {
   "cell_type": "code",
   "execution_count": 106,
   "metadata": {},
   "outputs": [],
   "source": [
    "def crop_bounding_box(image, bbox):\n",
    "    \"\"\"\n",
    "    Snijd de bounding box uit de afbeelding en returnd\n",
    "    de gesneden afbeelding.\n",
    "\n",
    "    Parameters:\n",
    "    - image: De originele afbeelding\n",
    "    - bbox: De bounding box in de volgende vorm: [x, y, width, height].\n",
    "\n",
    "    Returns:\n",
    "    - bbox_img: De gesneden afbeelding\n",
    "    \"\"\"\n",
    "    # Uitpakken bbox\n",
    "    x, y, width, height = bbox\n",
    "\n",
    "    # Convert tensors to integers for cropping\n",
    "    x = int(x)\n",
    "    y = int(y)\n",
    "    width = int(width)\n",
    "    height = int(height)\n",
    "\n",
    "    # Berekenen van de juiste coordinaten\n",
    "    right = x + width\n",
    "    bottom = y + height\n",
    "\n",
    "    # Snijden van afbeelding\n",
    "    bbox_img = image.crop((x, y, right, bottom))\n",
    "\n",
    "    return bbox_img\n"
   ]
  },
  {
   "cell_type": "code",
   "execution_count": 114,
   "metadata": {},
   "outputs": [
    {
     "data": {
      "text/plain": [
       "<matplotlib.image.AxesImage at 0x19738194740>"
      ]
     },
     "execution_count": 114,
     "metadata": {},
     "output_type": "execute_result"
    },
    {
     "data": {
      "image/png": "[encoded data removed]",
      "text/plain": [
       "<Figure size 640x480 with 1 Axes>"
      ]
     },
     "metadata": {},
     "output_type": "display_data"
    }
   ],
   "source": [
    "from PIL import Image\n",
    "import matplotlib.pyplot as plt\n",
    "\n",
    "#image = Image.open(image)\n",
    "sign = crop_bounding_box(image, speedsign)\n",
    "plt.imshow(sign)"
   ]
  },
  {
   "cell_type": "code",
   "execution_count": 108,
   "metadata": {},
   "outputs": [],
   "source": [
    "sign_grayscale = sign.convert('L')"
   ]
  },
  {
   "cell_type": "code",
   "execution_count": 115,
   "metadata": {},
   "outputs": [
    {
     "data": {
      "text/plain": [
       "[]"
      ]
     },
     "execution_count": 115,
     "metadata": {},
     "output_type": "execute_result"
    }
   ],
   "source": [
    "import numpy as np\n",
    "\n",
    "sign_np = np.array(sign)\n",
    "speed = reader.readtext(sign_np)\n",
    "speed"
   ]
  },
  {
   "cell_type": "code",
   "execution_count": 85,
   "metadata": {},
   "outputs": [
    {
     "data": {
      "text/plain": [
       "array([[224, 228, 224, 231, 205, 206, 169,  78,  48,  36,  55,  87,  97,  90,  65,  37,  50,  64, 121, 193],\n",
       "       [224, 226, 231, 202, 201, 140,  42,  40,  80, 171, 216, 228, 231, 232, 213, 175,  88,  50,  50, 100],\n",
       "       [229, 222, 210, 198, 144,  45,  46, 135, 219, 228, 229, 228, 224, 227, 225, 229, 236, 127,  49,  37],\n",
       "       [178, 178, 190, 173,  53,  35, 155, 224, 225, 229, 227, 229, 226, 228, 223, 226, 227, 229, 133,  51],\n",
       "       [151, 165, 204,  82,  32, 145, 231, 225, 218, 213, 222, 235, 224, 224, 225, 223, 223, 223, 230, 101],\n",
       "       [209, 196, 151,  33,  96, 214, 185,  95,  72,  75,  85, 191, 235, 230, 232, 199, 185, 216, 237, 201],\n",
       "       [202, 199,  93,  45, 154, 224, 196, 154, 198, 194, 107,  84, 226, 235, 148,  62,  51,  69, 199, 227],\n",
       "       [189, 176,  59,  63, 210, 225, 231, 237, 223, 229, 206,  67, 214, 173,  69, 181, 218, 106,  98, 218],\n",
       "       [190, 153,  55,  87, 230, 224, 227, 233, 213, 170, 102, 104, 220,  98, 163, 240, 230, 203,  81, 200],\n",
       "       [182, 146,  52, 109, 231, 230, 233, 145,  65,  63, 113, 211, 204,  84, 215, 225, 224, 215, 102, 202],\n",
       "       [156, 145,  52, 119, 228, 234, 134,  79, 179, 234, 237, 229, 190, 101, 227, 226, 224, 202,  92, 207],\n",
       "       [149, 145,  58, 102, 233, 205,  69, 193, 237, 242, 239, 228, 195,  80, 218, 234, 232, 173, 102, 221],\n",
       "       [163, 158,  62,  71, 220, 145,   8,  82, 114, 141, 153, 221, 219,  73, 169, 225, 207,  83, 160, 218],\n",
       "       [168, 178,  63,  60, 177, 205, 176, 154, 126,  88,  91, 196, 236, 173,  54,  85,  74, 123, 231, 168],\n",
       "       [195, 173,  97,  53, 108, 223, 232, 231, 242, 233, 227, 227, 227, 234, 190, 153, 182, 229, 216,  85],\n",
       "       [200, 164, 178,  44,  56, 165, 238, 228, 223, 225, 225, 228, 224, 221, 223, 221, 232, 226, 117,  38],\n",
       "       [203, 178, 183, 130,  51,  49, 173, 228, 229, 218, 218, 227, 223, 229, 224, 226, 220, 120,  34,  52]], dtype=uint8)"
      ]
     },
     "execution_count": 85,
     "metadata": {},
     "output_type": "execute_result"
    }
   ],
   "source": [
    "sign_np"
   ]
  },
  {
   "cell_type": "code",
   "execution_count": 37,
   "metadata": {},
   "outputs": [
    {
     "data": {
      "text/plain": [
       "0.42"
      ]
     },
     "execution_count": 37,
     "metadata": {},
     "output_type": "execute_result"
    }
   ],
   "source": [
    "speed_to_throttle(50)"
   ]
  },
  {
   "cell_type": "code",
   "execution_count": 17,
   "metadata": {},
   "outputs": [],
   "source": [
    "image = np.array([[160, 186, 103, 104, 112, 106,  94, 115, 159, 185, 195, 198, 194,\n",
    "        195, 184, 156, 105,  98, 109, 116, 102, 108, 186, 147],\n",
    "       [169, 100,  99, 110,  91, 115, 169, 205, 202, 195, 199, 198, 194,\n",
    "        196, 197, 198, 196, 165, 105,  93, 118, 107, 111, 187],\n",
    "       [107, 109, 105,  90, 152, 200, 200, 201, 200, 197, 195, 195, 194,\n",
    "        199, 197, 193, 199, 191, 195, 127,  89, 117,  99, 117],\n",
    "       [103, 111,  98, 170, 205, 199, 199, 197, 195, 194, 196, 197, 198,\n",
    "        194, 199, 197, 196, 200, 199, 200, 127,  97, 118, 100],\n",
    "       [113,  92, 158, 208, 196, 200, 199, 205, 202, 196, 195, 200, 199,\n",
    "        202, 201, 203, 198, 197, 199, 202, 207, 105, 102, 118],\n",
    "       [ 97, 131, 212, 198, 202, 211, 203, 155, 188, 195, 200, 178, 182,\n",
    "        188, 188, 193, 202, 195, 199, 192, 201, 177,  92, 115],\n",
    "       [114, 191, 206, 200, 201, 170,  71,  40, 174, 202, 177,  58,  43,\n",
    "         41,  39,  42,  40,  93, 204, 198, 206, 202, 130, 104],\n",
    "       [149, 199, 202, 195, 197,  85,  58,  59, 187, 197, 171,  45, 100,\n",
    "        119, 111, 104,  98, 129, 203, 191, 199, 193, 169, 102],\n",
    "       [184, 199, 202, 199, 197, 179, 107,  55, 194, 198, 157,  39, 152,\n",
    "        198, 207, 202, 194, 194, 205, 196, 194, 198, 188, 101],\n",
    "       [199, 202, 198, 198, 199, 202, 112,  63, 200, 203, 137,  46, 147,\n",
    "        148, 138, 150, 185, 204, 196, 198, 195, 199, 202, 107],\n",
    "       [202, 193, 198, 199, 195, 205,  88,  72, 201, 203, 120,  32,  39,\n",
    "         25,  36,  30,  70, 167, 200, 192, 198, 196, 201, 122],\n",
    "       [202, 202, 199, 191, 202, 202,  67,  97, 203, 202, 183, 127, 137,\n",
    "        170, 181, 145,  40,  78, 190, 198, 197, 198, 203, 121],\n",
    "       [202, 198, 200, 197, 197, 198,  57, 112, 205, 199, 191, 199, 198,\n",
    "        196, 194, 195, 133,  27, 185, 200, 196, 200, 203, 114],\n",
    "       [206, 197, 199, 191, 199, 194,  47, 125, 201, 198, 193, 195, 194,\n",
    "        193, 196, 195, 155,  24, 174, 200, 198, 196, 199,  94],\n",
    "       [202, 197, 195, 197, 196, 182,  41, 138, 206, 202, 189, 200, 193,\n",
    "        190, 201, 199, 110,  44, 190, 201, 198, 196, 187, 101],\n",
    "       [190, 198, 192, 195, 197, 172,  35, 157, 208, 182,  59,  96, 148,\n",
    "        180, 174, 129,  38, 106, 202, 191, 197, 199, 152,  99],\n",
    "       [174, 198, 195, 193, 195, 168,  38, 180, 200, 177,  86,  32,  31,\n",
    "         36,  31,  26,  92, 194, 194, 195, 193, 200, 110, 105],\n",
    "       [136, 200, 203, 193, 194, 187, 178, 196, 194, 194, 193, 175, 145,\n",
    "        120, 122, 165, 200, 200, 192, 198, 209, 157,  90, 112],\n",
    "       [100, 172, 203, 191, 196, 192, 195, 195, 192, 196, 194, 191, 200,\n",
    "        202, 201, 201, 195, 194, 195, 203, 181,  88, 109, 102],\n",
    "       [106, 109, 191, 199, 194, 198, 194, 192, 192, 197, 192, 190, 193,\n",
    "        193, 193, 191, 191, 194, 199, 195, 106, 100, 114,  87],\n",
    "       [111, 108, 119, 185, 197, 194, 194, 194, 194, 195, 195, 193, 190,\n",
    "        191, 191, 199, 189, 203, 185, 107,  96, 106,  95, 149],\n",
    "       [ 94, 115, 100, 103, 171, 193, 195, 197, 194, 190, 191, 193, 192,\n",
    "        193, 197, 199, 193, 152,  93,  92, 111,  90, 135, 183],\n",
    "       [113,  96, 120, 102,  92, 127, 167, 199, 206, 205, 204, 203, 203,\n",
    "        209, 189, 152, 107,  95, 104, 105,  80, 141, 179, 113],\n",
    "       [186, 116,  88, 106, 109,  99,  85,  92, 116, 139, 154, 149, 127,\n",
    "        100,  82,  88, 109, 106,  99,  91, 158, 184, 114, 204]],\n",
    "      dtype=np.uint8)"
   ]
  },
  {
   "cell_type": "code",
   "execution_count": 18,
   "metadata": {},
   "outputs": [
    {
     "name": "stdout",
     "output_type": "stream",
     "text": [
      "15\n"
     ]
    }
   ],
   "source": [
    "# Recognize text from the image\n",
    "results = reader.readtext(image)\n",
    "print(results[0][1])"
   ]
  }
 ],
 "metadata": {
  "kernelspec": {
   "display_name": "Python 3",
   "language": "python",
   "name": "python3"
  },
  "language_info": {
   "codemirror_mode": {
    "name": "ipython",
    "version": 3
   },
   "file_extension": ".py",
   "mimetype": "text/x-python",
   "name": "python",
   "nbconvert_exporter": "python",
   "pygments_lexer": "ipython3",
   "version": "3.12.3"
  }
 },
 "nbformat": 4,
 "nbformat_minor": 2
}

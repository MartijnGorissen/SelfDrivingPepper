{
 "cells": [
  {
   "cell_type": "markdown",
   "id": "0e850483",
   "metadata": {},
   "source": [
    "# Snelheidsborden Detectie"
   ]
  },
  {
   "cell_type": "code",
   "execution_count": null,
   "id": "456b99e2",
   "metadata": {},
   "outputs": [],
   "source": [
    "# Het importeren van de juiste libraries\n",
    "import os\n",
    "import xml.etree.ElementTree as ET\n",
    "import pandas as pd\n",
    "from IPython.display import display\n",
    "from PIL import Image"
   ]
  },
  {
   "cell_type": "markdown",
   "id": "fa8e8771",
   "metadata": {},
   "source": [
    "Een van de obstakels die de kart moet kunnen detecteren en op reageren is de snelheidsborden. Aangezien er nog geen data is gemaakt op de baan in Lelystad maken wij eerst gebruik van een dataset die op het internet is gevonden. Het is belangrijk om als voorbereiding van het trainen van het model een map en een bestand klaar te maken. Zo is het belangrijk dat er een bestand is met alle namen van de labels, en een map met alle foto's. Later gaan we gebruik maken van onze eigen data, maar omdat er nu gebruik wordt gebruikt van externe data is er aan ChatGPT gevraagd een functie te schrijven zodat de bestanden goed klaar gemaakt kunnen worden. Dit zal schelen in tijd zodat in ieder geval de modellen getraind kunnen worden."
   ]
  },
  {
   "cell_type": "code",
   "execution_count": null,
   "id": "7a69e3d2",
   "metadata": {},
   "outputs": [],
   "source": [
    "# (ChatGPT, 2024, Promt 1: XML Files to DataFrame)\n",
    "def extract_names_from_xml(xml_file):\n",
    "    tree = ET.parse(xml_file)\n",
    "    root = tree.getroot()\n",
    "    names = []\n",
    "    filename = root.find('filename').text\n",
    "    for obj in root.findall('.//object'):\n",
    "        name_elem = obj.find('name')\n",
    "        if name_elem is not None:\n",
    "            names.append((filename, name_elem.text))\n",
    "    return names\n",
    "\n",
    "def process_directory(directory):\n",
    "    all_names = []\n",
    "    for root, _, files in os.walk(directory):\n",
    "        for file in files:\n",
    "            if file.endswith('.xml'):\n",
    "                xml_file = os.path.join(root, file)\n",
    "                names = extract_names_from_xml(xml_file)\n",
    "                all_names.extend(names)\n",
    "    return all_names\n",
    "\n",
    "def create_dataframe(names):\n",
    "    df = pd.DataFrame(names, columns=['filename', 'object_name'])\n",
    "    return df\n",
    "\n",
    "# De verwijzing naar de map met bestandsnamen\n",
    "directory_path = r'C:\\Users\\bosch\\Downloads\\archive\\annotations'\n",
    "names = process_directory(directory_path)\n",
    "df = create_dataframe(names)\n",
    "print(df)"
   ]
  },
  {
   "cell_type": "markdown",
   "id": "03dab503",
   "metadata": {},
   "source": [
    "In het DataFrame df staan nu de bestanden met de namen van de categoriën behorend bij de bestanden."
   ]
  },
  {
   "cell_type": "code",
   "execution_count": null,
   "id": "59ba7aa9",
   "metadata": {},
   "outputs": [],
   "source": [
    "df.isna().sum()"
   ]
  },
  {
   "cell_type": "markdown",
   "id": "d8e4d57c",
   "metadata": {},
   "source": [
    "Wanneer er gekeken wordt naar de inhoud van het DataFrame zijn er geen missende waardes aanwezig."
   ]
  },
  {
   "cell_type": "code",
   "execution_count": null,
   "id": "f7203a79",
   "metadata": {
    "scrolled": true
   },
   "outputs": [],
   "source": [
    "df[\"object_name\"].value_counts()"
   ]
  },
  {
   "cell_type": "markdown",
   "id": "998cfa87",
   "metadata": {},
   "source": [
    "Het is voor het detecteren van snelheidsborden alleen belangrijk dat de foto's worden gebruikt die geclassificeerd zijn als \"speedlimit\". In de map met foto's is duidelijk de meerderheid van de bestanden een snelheidsbord. Dit zullen de foto's zijn die gebruikt worden voor het uiteindelijke model. Het doel voor dit model is het kunnen aflezen van de getallen die op de verkeersborden staan."
   ]
  },
  {
   "cell_type": "code",
   "execution_count": null,
   "id": "81ca9448",
   "metadata": {},
   "outputs": [],
   "source": [
    "df_speed = df[df[\"object_name\"] == \"speedlimit\"]\n",
    "display(df_speed.head())\n",
    "len(df_speed)"
   ]
  },
  {
   "cell_type": "markdown",
   "id": "38f52d2d",
   "metadata": {},
   "source": [
    "Nu is het de bedoeling om de map te importeren waar alle foto's in te vinden zijn. Hierna kunnen we de foto's selecteren uit de map die snelheidsborden bevatten. Daarna is onze data klaar om mee te trainen."
   ]
  },
  {
   "cell_type": "code",
   "execution_count": null,
   "id": "e2d6df85",
   "metadata": {
    "scrolled": true
   },
   "outputs": [],
   "source": [
    "# Path to the directory containing the photos\n",
    "dir_path = r\"C:\\Users\\bosch\\Downloads\\archive\\images\"\n",
    "\n",
    "# Filter the DataFrame to get only the filenames\n",
    "photo_filenames = df_speed['filename'].tolist()\n",
    "\n",
    "# Load and display the photos\n",
    "for filename in photo_filenames:#[:5]:\n",
    "    file_path = os.path.join(dir_path, filename)\n",
    "    if os.path.isfile(file_path):\n",
    "        image = Image.open(file_path)\n",
    "        display(image)"
   ]
  },
  {
   "cell_type": "markdown",
   "id": "5ec44e84",
   "metadata": {},
   "source": [
    "Nu is er een bestand gemaakt met alle afbeeldingen die een snelheidsbord bevatten. In de cel hieronder wordt gecheckt of het aantal afbeeldingen uit het df_speed DataFrame overeen komen met het aantal afbeeldingen in het photo_filenames DataFrame."
   ]
  },
  {
   "cell_type": "code",
   "execution_count": null,
   "id": "2826924c",
   "metadata": {},
   "outputs": [],
   "source": [
    "print(\"Length of photo_filenames:\", len(photo_filenames))\n",
    "print(\"Length of df_speed:\", len(df_speed))"
   ]
  },
  {
   "cell_type": "code",
   "execution_count": null,
   "id": "8bff81ea",
   "metadata": {},
   "outputs": [],
   "source": [
    "photo_filenames = pd.DataFrame(photo_filenames, columns=[\"filename\"])\n",
    "photo_filenames"
   ]
  },
  {
   "cell_type": "markdown",
   "id": "2b835fe0",
   "metadata": {},
   "source": [
    "Er is nu een dataframe gemaakt met alle foto's die snelheidsborden bevatten, maar hier zijn nog geen labels aan toegevoegd. Het model kan dus niet weten welke foto's geclassificeerd worden als welke snelheid."
   ]
  },
  {
   "cell_type": "code",
   "execution_count": null,
   "id": "626c59c8",
   "metadata": {},
   "outputs": [],
   "source": [
    "#photo_filenames.to_csv(r'C:\\Users\\bosch\\Downloads\\archive\\filenames.csv', index=False)"
   ]
  },
  {
   "cell_type": "markdown",
   "id": "cd495cc8",
   "metadata": {},
   "source": [
    "In de cel hierboven is het bestand opgeslagen met alle namen van de foto's die een snelheidsbord bevatten. Zo kan deze makkelijk terug gevonden en mogelijke labels worden toegevoegd."
   ]
  },
  {
   "cell_type": "markdown",
   "id": "9c784bdb",
   "metadata": {},
   "source": [
    "### Literatuurlijst\n",
    "- ChatGPT. (2024), Prompt 1: XML Files to DataFrame. https://chat.openai.com/share/d7e047f4-4bc6-4311-96cc-c5023b0f5cd8"
   ]
  }
 ],
 "metadata": {
  "kernelspec": {
   "display_name": "Python 3 (ipykernel)",
   "language": "python",
   "name": "python3"
  },
  "language_info": {
   "codemirror_mode": {
    "name": "ipython",
    "version": 3
   },
   "file_extension": ".py",
   "mimetype": "text/x-python",
   "name": "python",
   "nbconvert_exporter": "python",
   "pygments_lexer": "ipython3",
   "version": "3.9.13"
  }
 },
 "nbformat": 4,
 "nbformat_minor": 5
}

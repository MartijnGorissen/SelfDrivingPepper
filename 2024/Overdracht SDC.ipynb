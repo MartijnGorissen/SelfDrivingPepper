{
 "cells": [
  {
   "cell_type": "markdown",
   "metadata": {},
   "source": [
    "<div style=\"background-color:#000040; color:#FFFFFF; padding:10px; border-radius:5px; display: flex; justify-content: space-between; align-items: center; position: relative;\">\n",
    "    <div style=\"display: flex; flex-direction: column; justify-content: center; align-items: center;\">\n",
    "        <div style=\"font-size:60px; font-weight:bold;\">Self Driving Challenge - Editie 2024</div>\n",
    "    </div>\n",
    "    <img src=\"AchterkantTShirt.png\" alt=\"Self Driving Challenge\" style=\"height: 100px; margin-left: 20px; border-radius: 5px;\">\n",
    "</div>"
   ]
  },
  {
   "cell_type": "markdown",
   "metadata": {},
   "source": [
    "<div style=\"background-color:#000040; color:#FFFFFF; padding:10px; border-radius:5px; display: flex; justify-content: space-between; align-items: center; position: relative;\">\n",
    "    <div style=\"display: flex; flex-direction: column; justify-content: center; align-items: center;\">\n",
    "        <div style=\"font-size:30px; font-weight:bold;\">Inleiding</div>\n",
    "    </div>\n",
    "    <a name=\"Inleiding\"></a>\n",
    "    <img src=\"AchterkantTShirt.png\" alt=\"Self Driving Challenge\" style=\"height: 100px; margin-left: 20px; border-radius: 5px;\">\n",
    "</div>"
   ]
  },
  {
   "cell_type": "markdown",
   "metadata": {},
   "source": [
    "<div style=\"background-color:#000040; color:#FFFFFF; padding:10px; border-radius:5px; display: flex; justify-content: space-between; align-items: center; position: relative;\">\n",
    "    <div style=\"display: flex; flex-direction: column; justify-content: center; align-items: center;\">\n",
    "        <div style=\"font-size:30px; font-weight:bold;\">Inhoudsopgave</div>\n",
    "    </div>\n",
    "    <a name=\"Inhoudsopgave\"></a>\n",
    "    <img src=\"AchterkantTShirt.png\" alt=\"Self Driving Challenge\" style=\"height: 100px; margin-left: 20px; border-radius: 5px;\">\n",
    "</div>"
   ]
  },
  {
   "cell_type": "markdown",
   "metadata": {},
   "source": [
    "<div style=\"background-color:#000040; color:#FFFFFF; padding:10px; border-radius:5px; display: flex; justify-content: space-between; align-items: center; position: relative;\">\n",
    "    <div style=\"display: flex; flex-direction: column; justify-content: center; align-items: center;\">\n",
    "        <div style=\"font-size:30px; font-weight:bold;\">RDW en SDC</div>\n",
    "    </div>\n",
    "    <a name=\"RDW\"></a>\n",
    "    <img src=\"AchterkantTShirt.png\" alt=\"Self Driving Challenge\" style=\"height: 100px; margin-left: 20px; border-radius: 5px;\">\n",
    "</div>"
   ]
  },
  {
   "cell_type": "markdown",
   "metadata": {},
   "source": [
    "Het RDW (Rijksdienst voor het Wegverkeer) is de organisatie die zich bezighoudt met de registratie van gemotoriseerde voertuigen en de rijbewijzen in Nederland. De reden dat het RDW jaarlijks een self driving challenge organiseert is om studenten enthousiast te maken voor de sector autovoertuigen en mogelijk toekomstige collega's te werven.  \n",
    "\n",
    "Niet iedere editie van de Self Driving Challenge zit hetzelfde in elkaar. Het zou kunnen dat de challenge van 2025 niet overeenkomt met de challenge van 2024, maar toch wordt er in het kort besproken wat de challenge van 2024 inhield.  \n",
    "\n",
    "De editie van de Self Driving Challenge 2024 vond plaats in het testcentrum van het RDW in Lelystad. De challenge bestond als eerste natuurlijk uit het zelf laten rijden van een kart, die beschikbaar was vanuit het RDW, op een uitgelegd circuit. Deze baan begon met een recht stuk van 150 meter. Hierna moest er een kleine bocht gevolgd worden wat uitkwam op weer een recht stuk van ongeveer 60 meter. Het circuit eindigde met een scherpe bocht naar links, waardoor de kart weer met zijn neus naar de start van de baan stond. Naast het autonoom rijden op deze baan moesten er ook nog een aantal obstakels worden voltooid. Deze waren als volgt: \n",
    "\n",
    "1. Het gaan rijden bij een groen stoplicht \n",
    "\n",
    "2. Het stoppen voor een rood stoplicht \n",
    "\n",
    "3. Het aanpassen aan de snelheid d.m.v. snelheidsborden \n",
    "\n",
    "4. Het stoppen voor een voetganger bij een zebrapad (voor de challenge uitgebeeld met een pop) \n",
    "\n",
    "5. Het inhalen van een stilstaande auto (voor de challenge uitgebeeld met een dummie auto \n",
    "\n",
    "6. Het file parkeren van de auto aan het einde van het circuit \n",
    "\n",
    "Wanneer al deze obstakels goed werden uitgevoerd zonder ingreep van een persoon wordt de ronde goedgekeurd. Er zijn 4 verschillende versnellingen die alleen omhoog mocht wanneer deze obstakels allemaal goed waren uitgevoerd. De school die de challenge uiteindelijk heeft gewonnen is het team dat de meeste obstakels goed heeft afgelegd, met de snelste tijd. "
   ]
  },
  {
   "cell_type": "markdown",
   "metadata": {},
   "source": [
    "<div style=\"background-color:#000040; color:#FFFFFF; padding:10px; border-radius:5px; display: flex; justify-content: space-between; align-items: center; position: relative;\">\n",
    "    <div style=\"display: flex; flex-direction: column; justify-content: center; align-items: center;\">\n",
    "        <div style=\"font-size:30px; font-weight:bold;\">Belangrijke punten en groepsverdeling</div>\n",
    "    </div>\n",
    "    <a name=\"BelangrijkePunten\"></a>\n",
    "    <img src=\"AchterkantTShirt.png\" alt=\"Self Driving Challenge\" style=\"height: 100px; margin-left: 20px; border-radius: 5px;\">\n",
    "</div>"
   ]
  },
  {
   "cell_type": "markdown",
   "metadata": {},
   "source": [
    "Tijdens de challange moeten er ook enkele externe zaken geregeld worden. Zo heeft de faculteit een budget vrijgesteld voor ons als team. Dit budget is voor challange gerelateerde uitgaves zoals de reiskosten naar Lelystad, het aanschaffen van een harde schijf en het aanschaffen van teamkleding. Wij raden aan om direct aan het begin van het project gelijk achter het budget aan te gaan. Dit budget rond krijgen kan namelijk wel een paar weken duren. Jullie moeten met een begroting voorstel komen op basis van een gesprek met de opleidingscoördinator voor ons was dit Mirjam Boer. Dit voorstel moet daarna ook nog bekeken worden en goedgekeurd.  \n",
    "\n",
    "In het team is het belangrijk om een rolverdeling te maken. Er moet in ieder geval een teamcaptain worden aangewezen en door worden gegeven. De teamcaptain is verantwoordelijk voor communicatie met het RDW en met andere teamcaptains. Dit is erg belangrijk omdat algemene informatiemails alleen naar de teamcaptain worden gestuurd. Ook wordt het aanmelden voor testdagen door de teamcaptain gedaan. Bij het geval dat een team wel naar een testdag wil maar niet de gehele dag kan is het mogelijk om te ruilen van het tijdslot. Dit kan natuurlijk alleen als beide teams hiermee instemmen en deze communicatie gaat ook tussen de teamcaptains.  \n",
    "\n",
    "Overige rollen kunnen naar behoefte worden ingedeeld. In ons team hadden we bijvoorbeeld een teamlid met de taak om bij iedere testdag de kart klaar te zetten voor we een test beginnen. Wij raden aan om in ieder geval twee mensen de standaard taak te geven om de fysieke kart klaar te maken voor de testdag en twee mensen voor het verbinden met de kart zodat de kart goed kan worden aangestuurd. Uit ervaring blijkt dat het handig is om voor de testdag al te weten hoe de opstart van de dag zal verlopen. Dit betekent niet dat de teamleden van het klaarmaken niet zouden kunnen aansturen en dat de aanstuur teamleden niet kunnen klaarzetten. In het geval dat teamleden niet naar testdagen kunnen wegens andere afspraken of vanwege ziekte is het handig dat ieder lid alle taken kan.  \n",
    "\n",
    "Om de taken van iedereen duidelijk te maken hadden we aan het einde van elke werkdag een moment om taken te verdelen voor de volgende werkdag. Hierin zijn we kort over alle openstaande taken gegaan en hebben we deze over de groepsleden verdeeld. Hierdoor konden we elke ochtend goed van start zonder eerst te bekijken wat er gedaan moest worden en door wie. "
   ]
  },
  {
   "cell_type": "markdown",
   "metadata": {},
   "source": [
    "<div style=\"background-color:#000040; color:#FFFFFF; padding:10px; border-radius:5px; display: flex; justify-content: space-between; align-items: center; position: relative;\">\n",
    "    <div style=\"display: flex; flex-direction: column; justify-content: center; align-items: center;\">\n",
    "        <div style=\"font-size:30px; font-weight:bold;\">Hardware</div>\n",
    "    </div>\n",
    "    <a name=\"Hardware\"></a>\n",
    "    <img src=\"AchterkantTShirt.png\" alt=\"Self Driving Challenge\" style=\"height: 100px; margin-left: 20px; border-radius: 5px;\">\n",
    "</div>"
   ]
  },
  {
   "cell_type": "code",
   "execution_count": null,
   "metadata": {},
   "outputs": [],
   "source": []
  },
  {
   "cell_type": "markdown",
   "metadata": {},
   "source": [
    "<a name=\"Software\"></a>\n",
    "<div style=\"background-color:#000040; color:#FFFFFF; padding:10px; border-radius:5px; display: flex; justify-content: space-between; align-items: center; position: relative;\">\n",
    "    <div style=\"display: flex; flex-direction: column; justify-content: center; align-items: center;\">\n",
    "        <div style=\"font-size:30px; font-weight:bold;\">Software op de NUC</div>\n",
    "    </div>\n",
    "    <img src=\"AchterkantTShirt.png\" alt=\"Self Driving Challenge\" style=\"height: 100px; margin-left: 20px; border-radius: 5px;\">\n",
    "</div>\n",
    "\n",
    "<p>\n",
    "Zoals elke computer komt de NUC ook met de nodige software. Het eerste wat zal opvallen is de OS van de NUc, Ubuntu. Indien je hier niet bekend mee bent, wees gerust. Ubuntu is ontworpen om gebruiksvriendelijk te zijn en er is ook een hoop informatie online te vinden. Door de open-source code van Ubuntu is er ook een grote community, waarbij al vele vragen zijn gesteld. Het belangrijkste aan de NUC is dat er goed en eenvoudig genavigeerd kan worden. Dit zal zowel via de NUC zelf als via een SSH-verbinding tussen een laptop en de NUC. In deze paragraaf wordt er besproken waar op gelet moet worden en hoe het gebruik van de NUC in elkaar steekt.\n",
    "</p>\n",
    "\n",
    "<div style=\"background-color:#000060; color:#FFFFFF; padding:10px; border-radius:5px; display: flex; justify-content: space-between; align-items: center; position: relative;\">\n",
    "    <div style=\"display: flex; flex-direction: column; justify-content: center; align-items: center;\">\n",
    "        <div style=\"font-size:15px; font-weight:bold;\">Navigeren van de NUC</div>\n",
    "    </div>\n",
    "</div>\n",
    "\n",
    "<p>\n",
    "Zoals eerder is vermeld werkt de NUC via Ubuntu, een operating system die is gebaseerd op Linux. Het werkt simpel, snel en vrijwel zelfwijzend. Zo worden alle bestanden gewoon opgeslagen in de file manager, FireFox is aanwezig als standaard internet browser en natuurlijk is ook de belangrijkste app voor de challenge aanwezig, Terminal. Alle apps zijn te vinden in de linker side-bar van het scherm, of door te zoeken binnen het systeem. Zorg wel dat je beschikt over een muis en toestenbord die je kunt aansluiten op de NUC, anders wordt het moeilijk om te navigeren binnen het systeem.\n",
    "\n",
    "De file manager is grotendeels gelijk aan die van windows of MAC. Er is een structuur met verschillende mappen, bestanden en links zitten een aantal van de standaard locaties. Sommige mappen zijn afgesloten omdat de SDC niet wilt dat je de ruwe functionaliteit van bepaalde aspecten aan gaat passen, zoals de code die de controller de kart laat aansturen. Andere mapjes zijn standaard beveiligd met het SDC account, deze kan je in door gebruik te maken van het verkregen wachtwoord. De rest werkt hetzelfde als in windows, je kan de bestanden slepen en verplaatsen tussen de verschillende mappen.\n",
    "\n",
    "Daarnaast is de terminal ook erg belangrijk om de NUC succesvol aan te sturen. De terminal is heel belangrijk voor het uiteindelijke verbinden met de NUC via de laptops, het gemakkelijk overzetten van de bestanden en het testen van de code. Via de terminal is het mogelijk om alle extra python libaries te installeren en ook om python te gebruiken. --praten over terminal commands e.d.--\n",
    "</p>\n",
    "\n",
    "<div style=\"background-color:#000060; color:#FFFFFF; padding:10px; border-radius:5px; display: flex; justify-content: space-between; align-items: center; position: relative;\">\n",
    "    <div style=\"display: flex; flex-direction: column; justify-content: center; align-items: center;\">\n",
    "        <div style=\"font-size:15px; font-weight:bold;\">Python op de NUC</div>\n",
    "    </div>\n",
    "</div>\n",
    "\n",
    "<p>\n",
    "Om de kart uiteindelijk aan te sturen is er gebruik gemaakt van python code. Hiervoor is het niet nodig om zelf python te installeren --praten over scripts en gebruik python--\n",
    "</p>"
   ]
  },
  {
   "cell_type": "code",
   "execution_count": null,
   "metadata": {},
   "outputs": [],
   "source": []
  },
  {
   "cell_type": "markdown",
   "metadata": {},
   "source": [
    "<div style=\"background-color:#000040; color:#FFFFFF; padding:10px; border-radius:5px; display: flex; justify-content: space-between; align-items: center; position: relative;\">\n",
    "    <div style=\"display: flex; flex-direction: column; justify-content: center; align-items: center;\">\n",
    "        <div style=\"font-size:30px; font-weight:bold;\">Modellen en code</div>\n",
    "    </div>\n",
    "    <a name=\"Modellen\"></a>\n",
    "    <img src=\"AchterkantTShirt.png\" alt=\"Self Driving Challenge\" style=\"height: 100px; margin-left: 20px; border-radius: 5px;\">\n",
    "</div>"
   ]
  },
  {
   "cell_type": "code",
   "execution_count": null,
   "metadata": {},
   "outputs": [],
   "source": []
  },
  {
   "cell_type": "markdown",
   "metadata": {},
   "source": [
    "<div style=\"background-color:#000040; color:#FFFFFF; padding:10px; border-radius:5px; display: flex; justify-content: space-between; align-items: center; position: relative;\">\n",
    "    <div style=\"display: flex; flex-direction: column; justify-content: center; align-items: center;\">\n",
    "        <div style=\"font-size:30px; font-weight:bold;\">Testdagen</div>\n",
    "    </div>\n",
    "    <a name=\"Testdagen\"></a>\n",
    "    <img src=\"AchterkantTShirt.png\" alt=\"Self Driving Challenge\" style=\"height: 100px; margin-left: 20px; border-radius: 5px;\">\n",
    "</div>"
   ]
  },
  {
   "cell_type": "markdown",
   "metadata": {},
   "source": [
    "<div style=\"background-color:#000040; color:#FFFFFF; padding:10px; border-radius:5px; display: flex; justify-content: space-between; align-items: center; position: relative;\">\n",
    "    <div style=\"display: flex; flex-direction: column; justify-content: center; align-items: center;\">\n",
    "        <div style=\"font-size:30px; font-weight:bold;\">Problemen en oplossingen</div>\n",
    "    </div>\n",
    "    <a name=\"Problemen\"></a>\n",
    "    <img src=\"AchterkantTShirt.png\" alt=\"Self Driving Challenge\" style=\"height: 100px; margin-left: 20px; border-radius: 5px;\">\n",
    "</div>"
   ]
  },
  {
   "cell_type": "code",
   "execution_count": null,
   "metadata": {},
   "outputs": [],
   "source": []
  },
  {
   "cell_type": "markdown",
   "metadata": {},
   "source": [
    "<div style=\"background-color:#000040; color:#FFFFFF; padding:10px; border-radius:5px; display: flex; justify-content: space-between; align-items: center; position: relative;\">\n",
    "    <div style=\"display: flex; flex-direction: column; justify-content: center; align-items: center;\">\n",
    "        <div style=\"font-size:30px; font-weight:bold;\">Tips en Tricks</div>\n",
    "    </div>\n",
    "    <a name=\"Tips&Tricks\"></a>\n",
    "    <img src=\"AchterkantTShirt.png\" alt=\"Self Driving Challenge\" style=\"height: 100px; margin-left: 20px; border-radius: 5px;\">\n",
    "</div>"
   ]
  },
  {
   "cell_type": "code",
   "execution_count": null,
   "metadata": {},
   "outputs": [],
   "source": []
  },
  {
   "cell_type": "markdown",
   "metadata": {},
   "source": [
    "<div style=\"background-color:#000040; color:#FFFFFF; padding:10px; border-radius:5px; display: flex; justify-content: space-between; align-items: center; position: relative;\">\n",
    "    <div style=\"display: flex; flex-direction: column; justify-content: center; align-items: center;\">\n",
    "        <div style=\"font-size:30px; font-weight:bold;\">Contact</div>\n",
    "    </div>\n",
    "    <a name=\"Contact\"></a>\n",
    "    <img src=\"AchterkantTShirt.png\" alt=\"Self Driving Challenge\" style=\"height: 100px; margin-left: 20px; border-radius: 5px;\">\n",
    "</div>"
   ]
  },
  {
   "cell_type": "markdown",
   "metadata": {},
   "source": [
    "<div style=\"background-color:#000040; color:#FFFFFF; padding:10px; border-radius:5px; display: flex; justify-content: space-between; align-items: center; position: relative;\">\n",
    "    <div style=\"display: flex; flex-direction: column; justify-content: center; align-items: center;\">\n",
    "        <div style=\"font-size:30px; font-weight:bold;\">Bijlagen</div>\n",
    "    </div>\n",
    "    <a name=\"Bijlagen\"></a>\n",
    "    <img src=\"AchterkantTShirt.png\" alt=\"Self Driving Challenge\" style=\"height: 100px; margin-left: 20px; border-radius: 5px;\">\n",
    "</div>"
   ]
  },
  {
   "cell_type": "markdown",
   "metadata": {},
   "source": [
    "<div style=\"background-color:#000040; color:#FFFFFF; padding:10px; border-radius:5px; display: flex; justify-content: space-between; align-items: center; position: relative;\">\n",
    "    <div style=\"display: flex; flex-direction: column; justify-content: center; align-items: center;\">\n",
    "        <div style=\"font-size:30px; font-weight:bold;\">Bronnen</div>\n",
    "    </div>\n",
    "    <a name=\"Bronnen\"></a>\n",
    "    <img src=\"AchterkantTShirt.png\" alt=\"Self Driving Challenge\" style=\"height: 100px; margin-left: 20px; border-radius: 5px;\">\n",
    "</div>"
   ]
  }
 ],
 "metadata": {
  "kernelspec": {
   "display_name": "Python 3",
   "language": "python",
   "name": "python3"
  },
  "language_info": {
   "codemirror_mode": {
    "name": "ipython",
    "version": 3
   },
   "file_extension": ".py",
   "mimetype": "text/x-python",
   "name": "python",
   "nbconvert_exporter": "python",
   "pygments_lexer": "ipython3",
   "version": "3.12.3"
  }
 },
 "nbformat": 4,
 "nbformat_minor": 2
}

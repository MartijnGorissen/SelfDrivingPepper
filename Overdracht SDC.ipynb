{
 "cells": [
  {
   "cell_type": "markdown",
   "metadata": {},
   "source": [
    "# Overdrachts document Self Driving Challenge - 2024\n",
    "\n",
    "Auteurs:\n",
    "- Julia Boschman\n",
    "- Jasper Duncker\n",
    "- Busse Heemskerk\n",
    "- Johan Heskes\n",
    "- Tim Oosterling\n",
    "\n",
    "Wat moet er in:\n",
    "- Inleiding\n",
    "- Inhoudsopgave\n",
    "- SDC en RDW\n",
    "- Belangrijke punten en groepsverdeling\n",
    "- Hardware\n",
    "- NUC software\n",
    "- Code kart\n",
    "- Testdagen\n",
    "- Problemen en oplossingen\n",
    "- Tips en tricks\n",
    "- Contact\n",
    "- Bijlagen en verwijzingen\n",
    "- Bronnen"
   ]
  },
  {
   "cell_type": "code",
   "execution_count": null,
   "metadata": {},
   "outputs": [],
   "source": []
  }
 ],
 "metadata": {
  "language_info": {
   "name": "python"
  }
 },
 "nbformat": 4,
 "nbformat_minor": 2
}

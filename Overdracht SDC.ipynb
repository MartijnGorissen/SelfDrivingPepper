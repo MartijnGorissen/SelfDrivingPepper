{
 "cells": [
  {
   "cell_type": "markdown",
   "metadata": {},
   "source": [
    "<div style=\"background-color:#000040; color:#FFFFFF; padding:10px; border-radius:5px; display: flex; justify-content: space-between; align-items: center; position: relative;\">\n",
    "    <div style=\"display: flex; flex-direction: column; justify-content: center; align-items: center;\">\n",
    "        <div style=\"font-size:60px; font-weight:bold;\">Self Driving Challenge - Editie 2024</div>\n",
    "    </div>\n",
    "    <img src=\"AchterkantTShirt.png\" alt=\"Self Driving Challenge\" style=\"height: 100px; margin-left: 20px; border-radius: 5px;\">\n",
    "</div>"
   ]
  },
  {
   "cell_type": "markdown",
   "metadata": {},
   "source": [
    "<div style=\"background-color:#000040; color:#FFFFFF; padding:10px; border-radius:5px; display: flex; justify-content: space-between; align-items: center; position: relative;\">\n",
    "    <div style=\"display: flex; flex-direction: column; justify-content: center; align-items: center;\">\n",
    "        <div style=\"font-size:30px; font-weight:bold;\">Inleiding</div>\n",
    "    </div>\n",
    "    <a name=\"Inleiding\">\n",
    "    <img src=\"AchterkantTShirt.png\" alt=\"Self Driving Challenge\" style=\"height: 100px; margin-left: 20px; border-radius: 5px;\">\n",
    "</div>"
   ]
  },
  {
   "cell_type": "markdown",
   "metadata": {},
   "source": [
    "<div style=\"background-color:#000040; color:#FFFFFF; padding:10px; border-radius:5px; display: flex; justify-content: space-between; align-items: center; position: relative;\">\n",
    "    <div style=\"display: flex; flex-direction: column; justify-content: center; align-items: center;\">\n",
    "        <div style=\"font-size:30px; font-weight:bold;\">Inhoudsopgave</div>\n",
    "    </div>\n",
    "    <a name=\"Inhoudsopgave\">\n",
    "    <img src=\"AchterkantTShirt.png\" alt=\"Self Driving Challenge\" style=\"height: 100px; margin-left: 20px; border-radius: 5px;\">\n",
    "</div>"
   ]
  },
  {
   "cell_type": "markdown",
   "metadata": {},
   "source": [
    "<div style=\"background-color:#000040; color:#FFFFFF; padding:10px; border-radius:5px; display: flex; justify-content: space-between; align-items: center; position: relative;\">\n",
    "    <div style=\"display: flex; flex-direction: column; justify-content: center; align-items: center;\">\n",
    "        <div style=\"font-size:30px; font-weight:bold;\">RDW en SDC</div>\n",
    "    </div>\n",
    "    <a name=\"RDW\">\n",
    "    <img src=\"AchterkantTShirt.png\" alt=\"Self Driving Challenge\" style=\"height: 100px; margin-left: 20px; border-radius: 5px;\">\n",
    "</div>"
   ]
  },
  {
   "cell_type": "markdown",
   "metadata": {},
   "source": [
    "<div style=\"background-color:#000040; color:#FFFFFF; padding:10px; border-radius:5px; display: flex; justify-content: space-between; align-items: center; position: relative;\">\n",
    "    <div style=\"display: flex; flex-direction: column; justify-content: center; align-items: center;\">\n",
    "        <div style=\"font-size:30px; font-weight:bold;\">Belangrijke punten en groepsverdeling</div>\n",
    "    </div>\n",
    "    <a name=\"BelangrijkePunten\">\n",
    "    <img src=\"AchterkantTShirt.png\" alt=\"Self Driving Challenge\" style=\"height: 100px; margin-left: 20px; border-radius: 5px;\">\n",
    "</div>"
   ]
  },
  {
   "cell_type": "markdown",
   "metadata": {},
   "source": [
    "<div style=\"background-color:#000040; color:#FFFFFF; padding:10px; border-radius:5px; display: flex; justify-content: space-between; align-items: center; position: relative;\">\n",
    "    <div style=\"display: flex; flex-direction: column; justify-content: center; align-items: center;\">\n",
    "        <div style=\"font-size:30px; font-weight:bold;\">Hardware</div>\n",
    "    </div>\n",
    "    <a name=\"Hardware\">\n",
    "    <img src=\"AchterkantTShirt.png\" alt=\"Self Driving Challenge\" style=\"height: 100px; margin-left: 20px; border-radius: 5px;\">\n",
    "</div>"
   ]
  },
  {
   "cell_type": "code",
   "execution_count": null,
   "metadata": {},
   "outputs": [],
   "source": []
  },
  {
   "cell_type": "markdown",
   "metadata": {},
   "source": [
    "<div style=\"background-color:#000040; color:#FFFFFF; padding:10px; border-radius:5px; display: flex; justify-content: space-between; align-items: center; position: relative;\">\n",
    "    <div style=\"display: flex; flex-direction: column; justify-content: center; align-items: center;\">\n",
    "        <div style=\"font-size:30px; font-weight:bold;\">Software</div>\n",
    "    </div>\n",
    "    <a name=\"Software\">\n",
    "    <img src=\"AchterkantTShirt.png\" alt=\"Self Driving Challenge\" style=\"height: 100px; margin-left: 20px; border-radius: 5px;\">\n",
    "</div>"
   ]
  },
  {
   "cell_type": "code",
   "execution_count": null,
   "metadata": {},
   "outputs": [],
   "source": []
  },
  {
   "cell_type": "markdown",
   "metadata": {},
   "source": [
    "<div style=\"background-color:#000040; color:#FFFFFF; padding:10px; border-radius:5px; display: flex; justify-content: space-between; align-items: center; position: relative;\">\n",
    "    <div style=\"display: flex; flex-direction: column; justify-content: center; align-items: center;\">\n",
    "        <div style=\"font-size:30px; font-weight:bold;\">Modellen en code</div>\n",
    "    </div>\n",
    "    <a name=\"Modellen\">\n",
    "    <img src=\"AchterkantTShirt.png\" alt=\"Self Driving Challenge\" style=\"height: 100px; margin-left: 20px; border-radius: 5px;\">\n",
    "</div>"
   ]
  },
  {
   "cell_type": "code",
   "execution_count": null,
   "metadata": {},
   "outputs": [],
   "source": []
  },
  {
   "cell_type": "markdown",
   "metadata": {},
   "source": [
    "<div style=\"background-color:#000040; color:#FFFFFF; padding:10px; border-radius:5px; display: flex; justify-content: space-between; align-items: center; position: relative;\">\n",
    "    <div style=\"display: flex; flex-direction: column; justify-content: center; align-items: center;\">\n",
    "        <div style=\"font-size:30px; font-weight:bold;\">Testdagen</div>\n",
    "    </div>\n",
    "    <a name=\"Testdagen\">\n",
    "    <img src=\"AchterkantTShirt.png\" alt=\"Self Driving Challenge\" style=\"height: 100px; margin-left: 20px; border-radius: 5px;\">\n",
    "</div>"
   ]
  },
  {
   "cell_type": "markdown",
   "metadata": {},
   "source": [
    "<div style=\"background-color:#000040; color:#FFFFFF; padding:10px; border-radius:5px; display: flex; justify-content: space-between; align-items: center; position: relative;\">\n",
    "    <div style=\"display: flex; flex-direction: column; justify-content: center; align-items: center;\">\n",
    "        <div style=\"font-size:30px; font-weight:bold;\">Problemen en oplossingen</div>\n",
    "    </div>\n",
    "    <a name=\"Problemen\">\n",
    "    <img src=\"AchterkantTShirt.png\" alt=\"Self Driving Challenge\" style=\"height: 100px; margin-left: 20px; border-radius: 5px;\">\n",
    "</div>"
   ]
  },
  {
   "cell_type": "code",
   "execution_count": null,
   "metadata": {},
   "outputs": [],
   "source": []
  },
  {
   "cell_type": "markdown",
   "metadata": {},
   "source": [
    "<div style=\"background-color:#000040; color:#FFFFFF; padding:10px; border-radius:5px; display: flex; justify-content: space-between; align-items: center; position: relative;\">\n",
    "    <div style=\"display: flex; flex-direction: column; justify-content: center; align-items: center;\">\n",
    "        <div style=\"font-size:30px; font-weight:bold;\">Tips en Tricks</div>\n",
    "    </div>\n",
    "    <a name=\"Tips&Tricks\">\n",
    "    <img src=\"AchterkantTShirt.png\" alt=\"Self Driving Challenge\" style=\"height: 100px; margin-left: 20px; border-radius: 5px;\">\n",
    "</div>"
   ]
  },
  {
   "cell_type": "code",
   "execution_count": null,
   "metadata": {},
   "outputs": [],
   "source": []
  },
  {
   "cell_type": "markdown",
   "metadata": {},
   "source": [
    "<div style=\"background-color:#000040; color:#FFFFFF; padding:10px; border-radius:5px; display: flex; justify-content: space-between; align-items: center; position: relative;\">\n",
    "    <div style=\"display: flex; flex-direction: column; justify-content: center; align-items: center;\">\n",
    "        <div style=\"font-size:30px; font-weight:bold;\">Contact</div>\n",
    "    </div>\n",
    "    <a name=\"Contact\">\n",
    "    <img src=\"AchterkantTShirt.png\" alt=\"Self Driving Challenge\" style=\"height: 100px; margin-left: 20px; border-radius: 5px;\">\n",
    "</div>"
   ]
  },
  {
   "cell_type": "markdown",
   "metadata": {},
   "source": [
    "<div style=\"background-color:#000040; color:#FFFFFF; padding:10px; border-radius:5px; display: flex; justify-content: space-between; align-items: center; position: relative;\">\n",
    "    <div style=\"display: flex; flex-direction: column; justify-content: center; align-items: center;\">\n",
    "        <div style=\"font-size:30px; font-weight:bold;\">Bijlagen</div>\n",
    "    </div>\n",
    "    <a name=\"Bijlagen\">\n",
    "    <img src=\"AchterkantTShirt.png\" alt=\"Self Driving Challenge\" style=\"height: 100px; margin-left: 20px; border-radius: 5px;\">\n",
    "</div>"
   ]
  },
  {
   "cell_type": "markdown",
   "metadata": {},
   "source": [
    "<div style=\"background-color:#000040; color:#FFFFFF; padding:10px; border-radius:5px; display: flex; justify-content: space-between; align-items: center; position: relative;\">\n",
    "    <div style=\"display: flex; flex-direction: column; justify-content: center; align-items: center;\">\n",
    "        <div style=\"font-size:30px; font-weight:bold;\">Bronnen</div>\n",
    "    </div>\n",
    "    <a name=\"Bronnen\">\n",
    "    <img src=\"AchterkantTShirt.png\" alt=\"Self Driving Challenge\" style=\"height: 100px; margin-left: 20px; border-radius: 5px;\">\n",
    "</div>"
   ]
  },
  {
   "cell_type": "markdown",
   "metadata": {},
   "source": []
  }
 ],
 "metadata": {
  "language_info": {
   "name": "python"
  }
 },
 "nbformat": 4,
 "nbformat_minor": 2
}

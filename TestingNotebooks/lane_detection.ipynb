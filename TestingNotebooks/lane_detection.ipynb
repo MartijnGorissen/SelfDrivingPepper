{
 "cells": [
  {
   "cell_type": "markdown",
   "metadata": {},
   "source": [
    "<div style=\"background-color:#600170; color:#fff; padding:10px; border-radius:5px; display: flex; justify-content: center; align-items: center; position: relative;\">\n",
    "    <div style=\"font-size:60px; font-weight:bold;\">Lane Detection</div>\n",
    "</div>\n",
    "<br>\n",
    "<p>Een van de belangrijkere onderdelen voor het zelfstandig laten rijden van de auto is het gebruik van line detection om de auto te laten sturen. In dit notebook is er code te vinden die, door middel van een input video, een mp4 aanmaakt waarbij lijnen worden gedetecteerd. Om hiermee te beginnen worden de nodige libaries ingeladen."
   ]
  },
  {
   "cell_type": "code",
   "execution_count": 1,
   "metadata": {},
   "outputs": [
    {
     "name": "stdout",
     "output_type": "stream",
     "text": [
      "50\n",
      "Moviepy - Building video output.mp4.\n",
      "Moviepy - Writing video output.mp4\n",
      "\n"
     ]
    },
    {
     "name": "stderr",
     "output_type": "stream",
     "text": [
      "                                                                \r"
     ]
    },
    {
     "name": "stdout",
     "output_type": "stream",
     "text": [
      "Moviepy - Done !\n",
      "Moviepy - video ready output.mp4\n"
     ]
    }
   ],
   "source": [
    "import numpy as np\n",
    "import pandas as pd\n",
    "import cv2\n",
    "from moviepy import editor\n",
    "import moviepy"
   ]
  },
  {
   "cell_type": "markdown",
   "metadata": {},
   "source": [
    "Na het inladen van de libaries is het tijd om de nodige formules op te stellen voor het process."
   ]
  },
  {
   "cell_type": "code",
   "execution_count": null,
   "metadata": {},
   "outputs": [],
   "source": [
    "def region_selection(image):\n",
    "\t\"\"\"\n",
    "\tDeze functie bepaalt het interessegebied van de gegeven afbeelding.\n",
    "\n",
    "\tParameters:\n",
    "\t----------\n",
    "\timage : str\n",
    "\t\tPad/naar/afbeelding\n",
    "\n",
    "\tReturns:\n",
    "\t----------\n",
    "\tmasked_image\n",
    "\t\tDe afbeelding als enkel het interessegebied\n",
    "\t\"\"\"\n",
    "\t# Maak een array met dezelfde grootte als de afbeelding\n",
    "\tmask = np.zeros_like(image)\n",
    "\t\n",
    "\t# Voorbereiden van code indien er meer dimensies zijn\n",
    "\tif len(image.shape) > 2:\n",
    "\t\tchannel_count = image.shape[2]\n",
    "\t\t# Zetten van alle dimensies naar wit (255)\n",
    "\t\tignore_mask_color = (255,) * channel_count\n",
    "\t# Indien er 1 dimensies is\n",
    "\telse:\n",
    "\t\t# Zet de kleur naar wit (255)\n",
    "\t\tignore_mask_color = 255\n",
    "\n",
    "\t# Maken van een shape over de weg heen\n",
    "\t# Dit is gemaakt voor de huidige video, en heeft mogelijk adjustments nodig\n",
    "\trows, cols = image.shape[:2]\n",
    "\tbottom_left = [cols * 0.1, rows * 0.95]\n",
    "\ttop_left\t = [cols * 0.4, rows * 0.6]\n",
    "\tbottom_right = [cols * 0.9, rows * 0.95]\n",
    "\ttop_right = [cols * 0.6, rows * 0.6]\n",
    "\tvertices = np.array([[bottom_left, top_left, top_right, bottom_right]], dtype=np.int32)\n",
    "\n",
    "\t# Vullen van de shape met wit en maak de uiteindelijke mask\n",
    "\tcv2.fillPoly(mask, vertices, ignore_mask_color)\n",
    "\n",
    "\t# Voer een Bitwise AND uit met het masker om alleen de zijkant te zien\n",
    "\tmasked_image = cv2.bitwise_and(image, mask)\n",
    "\treturn masked_image"
   ]
  },
  {
   "cell_type": "code",
   "execution_count": null,
   "metadata": {},
   "outputs": [],
   "source": [
    "def hough_transform(image):\n",
    "\t\"\"\"\n",
    "\tDetermine and cut the region of interest in the input image.\n",
    "\tParameter:\n",
    "\t\timage: grayscale image which should be an output from the edge detector\n",
    "\t\"\"\"\n",
    "\t# Distance resolution of the accumulator in pixels.\n",
    "\trho = 1\t\t\t\n",
    "\t# Angle resolution of the accumulator in radians.\n",
    "\ttheta = np.pi/180\n",
    "\t# Only lines that are greater than threshold will be returned.\n",
    "\tthreshold = 20\t\n",
    "\t# Line segments shorter than that are rejected.\n",
    "\tminLineLength = 20\n",
    "\t# Maximum allowed gap between points on the same line to link them\n",
    "\tmaxLineGap = 500\t\n",
    "\t# function returns an array containing dimensions of straight lines \n",
    "\t# appearing in the input image\n",
    "\treturn cv2.HoughLinesP(image, rho = rho, theta = theta, threshold = threshold,\n",
    "\t\t\t\t\t\tminLineLength = minLineLength, maxLineGap = maxLineGap)"
   ]
  },
  {
   "cell_type": "code",
   "execution_count": null,
   "metadata": {},
   "outputs": [],
   "source": [
    "\n",
    "def average_slope_intercept(lines):\n",
    "\t\"\"\"\n",
    "\tFind the slope and intercept of the left and right lanes of each image.\n",
    "\tParameters:\n",
    "\t\tlines: output from Hough Transform\n",
    "\t\"\"\"\n",
    "\tleft_lines = [] #(slope, intercept)\n",
    "\tleft_weights = [] #(length,)\n",
    "\tright_lines = [] #(slope, intercept)\n",
    "\tright_weights = [] #(length,)\n",
    "\t\n",
    "\tfor line in lines:\n",
    "\t\tfor x1, y1, x2, y2 in line:\n",
    "\t\t\tif x1 == x2:\n",
    "\t\t\t\tcontinue\n",
    "\t\t\t# calculating slope of a line\n",
    "\t\t\tslope = (y2 - y1) / (x2 - x1)\n",
    "\t\t\t# calculating intercept of a line\n",
    "\t\t\tintercept = y1 - (slope * x1)\n",
    "\t\t\t# calculating length of a line\n",
    "\t\t\tlength = np.sqrt(((y2 - y1) ** 2) + ((x2 - x1) ** 2))\n",
    "\t\t\t# slope of left lane is negative and for right lane slope is positive\n",
    "\t\t\tif slope < 0:\n",
    "\t\t\t\tleft_lines.append((slope, intercept))\n",
    "\t\t\t\tleft_weights.append((length))\n",
    "\t\t\telse:\n",
    "\t\t\t\tright_lines.append((slope, intercept))\n",
    "\t\t\t\tright_weights.append((length))\n",
    "\t# \n",
    "\tleft_lane = np.dot(left_weights, left_lines) / np.sum(left_weights) if len(left_weights) > 0 else None\n",
    "\tright_lane = np.dot(right_weights, right_lines) / np.sum(right_weights) if len(right_weights) > 0 else None\n",
    "\treturn left_lane, right_lane"
   ]
  },
  {
   "cell_type": "code",
   "execution_count": null,
   "metadata": {},
   "outputs": [],
   "source": [
    "def pixel_points(y1, y2, line):\n",
    "\t\"\"\"\n",
    "\tConverts the slope and intercept of each line into pixel points.\n",
    "\t\tParameters:\n",
    "\t\t\ty1: y-value of the line's starting point.\n",
    "\t\t\ty2: y-value of the line's end point.\n",
    "\t\t\tline: The slope and intercept of the line.\n",
    "\t\"\"\"\n",
    "\tif line is None:\n",
    "\t\treturn None\n",
    "\tslope, intercept = line\n",
    "\tx1 = int((y1 - intercept)/slope)\n",
    "\tx2 = int((y2 - intercept)/slope)\n",
    "\ty1 = int(y1)\n",
    "\ty2 = int(y2)\n",
    "\treturn ((x1, y1), (x2, y2))\n"
   ]
  },
  {
   "cell_type": "code",
   "execution_count": null,
   "metadata": {},
   "outputs": [],
   "source": [
    "\n",
    "def lane_lines(image, lines):\n",
    "\t\"\"\"\n",
    "\tCreate full lenght lines from pixel points.\n",
    "\t\tParameters:\n",
    "\t\t\timage: The input test image.\n",
    "\t\t\tlines: The output lines from Hough Transform.\n",
    "\t\"\"\"\n",
    "\tleft_lane, right_lane = average_slope_intercept(lines)\n",
    "\ty1 = image.shape[0]\n",
    "\ty2 = y1 * 0.6\n",
    "\tleft_line = pixel_points(y1, y2, left_lane)\n",
    "\tright_line = pixel_points(y1, y2, right_lane)\n",
    "\treturn left_line, right_line\n"
   ]
  },
  {
   "cell_type": "code",
   "execution_count": null,
   "metadata": {},
   "outputs": [],
   "source": [
    "\n",
    "def draw_lane_lines(image, lines, color=[255, 0, 0], thickness=12):\n",
    "\t\"\"\"\n",
    "\tDraw lines onto the input image.\n",
    "\t\tParameters:\n",
    "\t\t\timage: The input test image (video frame in our case).\n",
    "\t\t\tlines: The output lines from Hough Transform.\n",
    "\t\t\tcolor (Default = red): Line color.\n",
    "\t\t\tthickness (Default = 12): Line thickness. \n",
    "\t\"\"\"\n",
    "\tline_image = np.zeros_like(image)\n",
    "\tfor line in lines:\n",
    "\t\tif line is not None:\n",
    "\t\t\tcv2.line(line_image, *line, color, thickness)\n",
    "\treturn cv2.addWeighted(image, 1.0, line_image, 1.0, 0.0)\n"
   ]
  },
  {
   "cell_type": "code",
   "execution_count": null,
   "metadata": {},
   "outputs": [],
   "source": [
    "\n",
    "def frame_processor(image):\n",
    "\t\"\"\"\n",
    "\tProcess the input frame to detect lane lines.\n",
    "\tParameters:\n",
    "\t\timage: image of a road where one wants to detect lane lines\n",
    "\t\t(we will be passing frames of video to this function)\n",
    "\t\"\"\"\n",
    "\t# convert the RGB image to Gray scale\n",
    "\tgrayscale = cv2.cvtColor(image, cv2.COLOR_BGR2GRAY)\n",
    "\t# applying gaussian Blur which removes noise from the image \n",
    "\t# and focuses on our region of interest\n",
    "\t# size of gaussian kernel\n",
    "\tkernel_size = 5\n",
    "\t# Applying gaussian blur to remove noise from the frames\n",
    "\tblur = cv2.GaussianBlur(grayscale, (kernel_size, kernel_size), 0)\n",
    "\t# first threshold for the hysteresis procedure\n",
    "\tlow_t = 50\n",
    "\t# second threshold for the hysteresis procedure \n",
    "\thigh_t = 150\n",
    "\t# applying canny edge detection and save edges in a variable\n",
    "\tedges = cv2.Canny(blur, low_t, high_t)\n",
    "\t# since we are getting too many edges from our image, we apply \n",
    "\t# a mask polygon to only focus on the road\n",
    "\t# Will explain Region selection in detail in further steps\n",
    "\tregion = region_selection(edges)\n",
    "\t# Applying hough transform to get straight lines from our image \n",
    "\t# and find the lane lines\n",
    "\t# Will explain Hough Transform in detail in further steps\n",
    "\though = hough_transform(region)\n",
    "\t#lastly we draw the lines on our resulting frame and return it as output \n",
    "\tresult = draw_lane_lines(image, lane_lines(image, hough))\n",
    "\treturn result\n"
   ]
  },
  {
   "cell_type": "code",
   "execution_count": null,
   "metadata": {},
   "outputs": [],
   "source": [
    "\n",
    "def process_video(test_video, output_video):\n",
    "    \"\"\"\n",
    "    Read input video stream and produce a video file with detected lane lines.\n",
    "    Parameters:\n",
    "        test_video: location of input video file\n",
    "        output_video: location where the output video file is to be saved\n",
    "    \"\"\"\n",
    "    # Read the video file using VideoFileClip without audio\n",
    "    input_video = editor.VideoFileClip(test_video, audio=False)\n",
    "\n",
    "    # Try to get the frames per second (fps) of the input video\n",
    "    try:\n",
    "        fps = int(input_video.fps)\n",
    "    except AttributeError:\n",
    "        # Handle cases where fps information is not available\n",
    "        print(\"FPS information not available. Using default value (30 fps).\")\n",
    "        fps = 30  # You can adjust the default value if needed\n",
    "\n",
    "    print(fps)\n",
    "\n",
    "    # Set the fps directly on the VideoClip object\n",
    "    input_video = input_video.set_fps(fps)\n",
    "\n",
    "    # Apply the function \"frame_processor\" to each frame of the video\n",
    "    # \"processed\" stores the output video\n",
    "    processed = input_video.fl_image(frame_processor)\n",
    "\n",
    "    # Save the output video stream to an mp4 file\n",
    "    processed.write_videofile(output_video, fps=fps, audio=False, codec='libx264', temp_audiofile=None, remove_temp=True)\n"
   ]
  },
  {
   "cell_type": "code",
   "execution_count": null,
   "metadata": {},
   "outputs": [],
   "source": [
    "\n",
    "# Calling driver function\n",
    "process_video('test_video.mp4', 'output.mp4')"
   ]
  }
 ],
 "metadata": {
  "kernelspec": {
   "display_name": "Python 3",
   "language": "python",
   "name": "python3"
  },
  "language_info": {
   "codemirror_mode": {
    "name": "ipython",
    "version": 3
   },
   "file_extension": ".py",
   "mimetype": "text/x-python",
   "name": "python",
   "nbconvert_exporter": "python",
   "pygments_lexer": "ipython3",
   "version": "3.12.0"
  }
 },
 "nbformat": 4,
 "nbformat_minor": 2
}
